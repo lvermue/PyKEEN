{
 "cells": [
  {
   "cell_type": "code",
   "execution_count": 1,
   "metadata": {},
   "outputs": [],
   "source": [
    "import sys\n",
    "sys.path.append('../../src')"
   ]
  },
  {
   "cell_type": "code",
   "execution_count": 2,
   "metadata": {},
   "outputs": [],
   "source": [
    "import logging\n",
    "import os\n",
    "import sys\n",
    "import time\n",
    "\n",
    "import numpy as np\n",
    "import matplotlib.pyplot as plt\n",
    "import pykeen\n",
    "from pykeen.kge_models import ConvE\n",
    "import os\n",
    "os.environ[\"CUDA_VISIBLE_DEVICES\"]='0'"
   ]
  },
  {
   "cell_type": "code",
   "execution_count": 3,
   "metadata": {},
   "outputs": [],
   "source": [
    "%matplotlib inline"
   ]
  },
  {
   "cell_type": "code",
   "execution_count": 4,
   "metadata": {},
   "outputs": [],
   "source": [
    "logging.basicConfig(level=logging.INFO)\n",
    "logging.getLogger('pykeen').setLevel(logging.INFO)"
   ]
  },
  {
   "cell_type": "markdown",
   "metadata": {},
   "source": [
    "print(sys.version)"
   ]
  },
  {
   "cell_type": "code",
   "execution_count": 5,
   "metadata": {},
   "outputs": [
    {
     "name": "stdout",
     "output_type": "stream",
     "text": [
      "Thu Jun 27 11:24:45 2019\n"
     ]
    }
   ],
   "source": [
    "print(time.asctime())"
   ]
  },
  {
   "cell_type": "code",
   "execution_count": 6,
   "metadata": {},
   "outputs": [
    {
     "name": "stdout",
     "output_type": "stream",
     "text": [
      "0.0.26-dev\n"
     ]
    }
   ],
   "source": [
    "print(pykeen.get_version())"
   ]
  },
  {
   "cell_type": "markdown",
   "metadata": {},
   "source": [
    "Check which hyper-parameters are required by ConvE:"
   ]
  },
  {
   "cell_type": "code",
   "execution_count": 7,
   "metadata": {},
   "outputs": [
    {
     "data": {
      "text/plain": [
       "['embedding_dim',\n",
       " 'ConvE_input_channels',\n",
       " 'ConvE_output_channels',\n",
       " 'ConvE_height',\n",
       " 'ConvE_width',\n",
       " 'ConvE_kernel_height',\n",
       " 'ConvE_kernel_width',\n",
       " 'conv_e_input_dropout',\n",
       " 'conv_e_feature_map_dropout',\n",
       " 'conv_e_output_dropout',\n",
       " 'margin_loss',\n",
       " 'learning_rate']"
      ]
     },
     "execution_count": 7,
     "metadata": {},
     "output_type": "execute_result"
    }
   ],
   "source": [
    "ConvE.hyper_params"
   ]
  },
  {
   "cell_type": "markdown",
   "metadata": {},
   "source": [
    "Define output directory:"
   ]
  },
  {
   "cell_type": "code",
   "execution_count": 8,
   "metadata": {},
   "outputs": [],
   "source": [
    "output_directory = os.path.join(\n",
    "    '.'\n",
    ")"
   ]
  },
  {
   "cell_type": "markdown",
   "metadata": {},
   "source": [
    "Define hyper-parameters:"
   ]
  },
  {
   "cell_type": "markdown",
   "metadata": {},
   "source": [
    "Note: ConvE_height * ConvE_width == embedding_dim"
   ]
  },
  {
   "cell_type": "markdown",
   "metadata": {},
   "source": [
    "Note: ConvE_kernel_height <= ConvE_height"
   ]
  },
  {
   "cell_type": "markdown",
   "metadata": {},
   "source": [
    "Note: ConvE_kernel_width <= ConvE_width"
   ]
  },
  {
   "cell_type": "markdown",
   "metadata": {},
   "source": [
    "Train ConvE:"
   ]
  },
  {
   "cell_type": "code",
   "execution_count": 9,
   "metadata": {},
   "outputs": [],
   "source": [
    "# For the new model\n",
    "config = dict(\n",
    "#     random_seed                 = 22,\n",
    "    embedding_dim               = 200,\n",
    "    ConvE_input_channels        = 1,  \n",
    "    ConvE_output_channels       = 32,  \n",
    "    ConvE_height                = 10,\n",
    "    ConvE_width                 = 20,\n",
    "    ConvE_kernel_height         = 3,\n",
    "    ConvE_kernel_width          = 3,\n",
    "    conv_e_input_dropout        = 0.2,\n",
    "    conv_e_feature_map_dropout  = 0.2,\n",
    "    conv_e_output_dropout       = 0.3,\n",
    "    margin_loss                 = 1,\n",
    "    preferred_device            = 'gpu',\n",
    ")"
   ]
  },
  {
   "cell_type": "code",
   "execution_count": 10,
   "metadata": {},
   "outputs": [
    {
     "name": "stderr",
     "output_type": "stream",
     "text": [
      "/home/berrendorf/.conda/envs/berrendorf/lib/python3.7/site-packages/torch/nn/_reduction.py:46: UserWarning: size_average and reduce args will be deprecated, please use reduction='mean' instead.\n",
      "  warnings.warn(warning.format(ret))\n"
     ]
    }
   ],
   "source": [
    "model = ConvE(**config)"
   ]
  },
  {
   "cell_type": "code",
   "execution_count": 11,
   "metadata": {},
   "outputs": [],
   "source": [
    "# train_triples = model.load_triples_from_path('../../tests/resources/data/rdf.nt')\n",
    "train_triples, valid_triples, test_triples = model.load_triples_from_path(\n",
    "    ['fb15k237_train.tsv', 'fb15k237_valid.tsv', 'fb15k237_test.tsv'])"
   ]
  },
  {
   "cell_type": "code",
   "execution_count": 12,
   "metadata": {},
   "outputs": [],
   "source": [
    "# from pykeen.kge_models.base import load_data\n",
    "# triples = load_data('fb15k_train.tsv')\n",
    "# triples_short = triples[:10000]\n",
    "# train_triples = test_triples = model.load_triples(triples_short)"
   ]
  },
  {
   "cell_type": "code",
   "execution_count": 13,
   "metadata": {},
   "outputs": [
    {
     "data": {
      "text/plain": [
       "ConvE(\n",
       "  (criterion): MarginRankingLoss()\n",
       "  (inp_drop): Dropout(p=0.2)\n",
       "  (hidden_drop): Dropout(p=0.3)\n",
       "  (feature_map_drop): Dropout2d(p=0.2)\n",
       "  (loss): BCELoss()\n",
       "  (conv1): Conv2d(1, 32, kernel_size=(3, 3), stride=(1, 1))\n",
       "  (bn0): BatchNorm2d(1, eps=1e-05, momentum=0.1, affine=True, track_running_stats=True)\n",
       "  (bn1): BatchNorm2d(32, eps=1e-05, momentum=0.1, affine=True, track_running_stats=True)\n",
       "  (bn2): BatchNorm1d(200, eps=1e-05, momentum=0.1, affine=True, track_running_stats=True)\n",
       "  (fc): Linear(in_features=10368, out_features=200, bias=True)\n",
       ")"
      ]
     },
     "execution_count": 13,
     "metadata": {},
     "output_type": "execute_result"
    }
   ],
   "source": [
    "model.train()"
   ]
  },
  {
   "cell_type": "code",
   "execution_count": 14,
   "metadata": {},
   "outputs": [],
   "source": [
    "# Load labels\n",
    "# import pickle\n",
    "# labels = pickle.load(open('Triple_full_labels.pkl', 'rb'))"
   ]
  },
  {
   "cell_type": "code",
   "execution_count": 15,
   "metadata": {},
   "outputs": [
    {
     "name": "stderr",
     "output_type": "stream",
     "text": [
      "INFO:pykeen.kge_models.base:Creating inverse triples\n",
      "INFO:pykeen.kge_models.base:Created inverse triples. It took 0.07 seconds\n",
      "INFO:pykeen.kge_models.base:Creating labels for training\n",
      "100%|██████████| 544230/544230 [00:00<00:00, 837295.53it/s]\n",
      "INFO:pykeen.kge_models.base:Created labels for training\n",
      "INFO:pykeen.kge_models.base:****Run Model On CUDA****\n",
      "Training epoch: 100%|██████████| 1000/1000 [3:09:58<00:00, 11.30s/it, loss=0.000402, previous_loss=0.000401]\n",
      "INFO:pykeen.kge_models.base:Training took 11398 seconds \n",
      "\n"
     ]
    }
   ],
   "source": [
    "losses = model.fit(train_triples, learning_rate=0.001, num_epochs=1000, batch_size=128, create_inverse_triples=True, label_smoothing=0.1)"
   ]
  },
  {
   "cell_type": "markdown",
   "metadata": {},
   "source": [
    "Visualize loss values:"
   ]
  },
  {
   "cell_type": "code",
   "execution_count": 16,
   "metadata": {},
   "outputs": [
    {
     "data": {
      "image/png": "[encoded data removed]",
      "text/plain": [
       "<Figure size 432x288 with 1 Axes>"
      ]
     },
     "metadata": {
      "needs_background": "light"
     },
     "output_type": "display_data"
    }
   ],
   "source": [
    "epochs = np.arange(len(losses))\n",
    "plt.title(r'Loss Per Epoch')\n",
    "plt.xlabel('epoch')\n",
    "plt.ylabel('loss')\n",
    "plt.plot(epochs, losses)\n",
    "plt.show()"
   ]
  },
  {
   "cell_type": "markdown",
   "metadata": {},
   "source": [
    "Move model to cpu"
   ]
  },
  {
   "cell_type": "code",
   "execution_count": 17,
   "metadata": {},
   "outputs": [
    {
     "data": {
      "text/plain": [
       "ConvE(\n",
       "  (criterion): MarginRankingLoss()\n",
       "  (inp_drop): Dropout(p=0.2)\n",
       "  (hidden_drop): Dropout(p=0.3)\n",
       "  (feature_map_drop): Dropout2d(p=0.2)\n",
       "  (loss): BCELoss()\n",
       "  (conv1): Conv2d(1, 32, kernel_size=(3, 3), stride=(1, 1))\n",
       "  (bn0): BatchNorm2d(1, eps=1e-05, momentum=0.1, affine=True, track_running_stats=True)\n",
       "  (bn1): BatchNorm2d(32, eps=1e-05, momentum=0.1, affine=True, track_running_stats=True)\n",
       "  (bn2): BatchNorm1d(200, eps=1e-05, momentum=0.1, affine=True, track_running_stats=True)\n",
       "  (fc): Linear(in_features=10368, out_features=200, bias=True)\n",
       "  (entity_embeddings): Embedding(14541, 200)\n",
       "  (relation_embeddings): Embedding(474, 200)\n",
       ")"
      ]
     },
     "execution_count": 17,
     "metadata": {},
     "output_type": "execute_result"
    }
   ],
   "source": [
    "model.eval()"
   ]
  },
  {
   "cell_type": "markdown",
   "metadata": {},
   "source": [
    "Load test triples"
   ]
  },
  {
   "cell_type": "code",
   "execution_count": 18,
   "metadata": {},
   "outputs": [],
   "source": [
    "# test_triples = model.map_triples_from_path('../../tests/resources/data/rdf.nt')\n",
    "# train_triples = model.map_triples_from_path('fb15k237_train.tsv')\n",
    "# test_triples = model.map_triples_from_path('fb15k237_test.tsv')"
   ]
  },
  {
   "cell_type": "markdown",
   "metadata": {},
   "source": [
    "Calculate results"
   ]
  },
  {
   "cell_type": "code",
   "execution_count": 19,
   "metadata": {},
   "outputs": [],
   "source": [
    "from pykeen.utilities.evaluation_utils.metrics_computations import compute_metric_results\n",
    "import torch"
   ]
  },
  {
   "cell_type": "code",
   "execution_count": 20,
   "metadata": {},
   "outputs": [
    {
     "name": "stderr",
     "output_type": "stream",
     "text": [
      "⚽️ corrupting triples: 100%|██████████| 20466/20466 [00:29<00:00, 694.27it/s]\n",
      "INFO:pykeen.utilities.evaluation_utils.metrics_computations:Evaluation took 32.14 seconds\n"
     ]
    }
   ],
   "source": [
    "with torch.no_grad():\n",
    "    results, ranks = compute_metric_results(kg_embedding_model=model, mapped_train_triples=train_triples, mapped_test_triples=test_triples, device = model.device, filter_neg_triples=True)"
   ]
  },
  {
   "cell_type": "code",
   "execution_count": 22,
   "metadata": {},
   "outputs": [
    {
     "name": "stdout",
     "output_type": "stream",
     "text": [
      "optimistic\n",
      "MetricResults(mean_rank=28.93264438581061, mean_reciprocal_rank=0.4281626727813706, hits_at_k={1: 0.3079742011140428, 3: 0.4604710251148246, 5: 0.5726815205707027, 10: 0.7153571777582332})\n",
      "\n",
      "pessimistic\n",
      "MetricResults(mean_rank=8765.23807778755, mean_reciprocal_rank=0.15316164464787752, hits_at_k={1: 0.09462034593960715, 3: 0.1787598944591029, 5: 0.22666862112772404, 10: 0.28329913026482945})\n",
      "\n",
      "expected_random\n",
      "MetricResults(mean_rank=7162.8278119808465, mean_reciprocal_rank=0.00013996520651662054, hits_at_k={1: 0.0, 3: 0.0, 5: 0.0, 10: 0.0})\n",
      "\n",
      "realistic\n",
      "MetricResults(mean_rank=4397.085361086681, mean_reciprocal_rank=0.17205335790522366, hits_at_k={1: 0.09462034593960715, 3: 0.20771034887129874, 5: 0.2567673214111209, 10: 0.2992768494087755})\n",
      "\n",
      "adjusted\n",
      "MetricResults(mean_rank=0.6138545528487996, mean_reciprocal_rank=1249.6574989374556, hits_at_k={1: 0.4277826639304212, 3: 1.0, 5: 1.0, 10: 1.0})\n",
      "\n"
     ]
    }
   ],
   "source": [
    "for k, v in results.items():\n",
    "    print(k)\n",
    "    print(v)\n",
    "    print()"
   ]
  },
  {
   "cell_type": "code",
   "execution_count": 28,
   "metadata": {},
   "outputs": [],
   "source": [
    "scores = model.predict_for_ranking(torch.tensor(test_triples[0:1, 0:1]).to('cuda'), torch.tensor(test_triples[0:1, 1:2]).to('cuda')).detach().to('cpu')"
   ]
  },
  {
   "cell_type": "code",
   "execution_count": 32,
   "metadata": {},
   "outputs": [
    {
     "data": {
      "text/plain": [
       "[<matplotlib.lines.Line2D at 0x7f43312e13c8>]"
      ]
     },
     "execution_count": 32,
     "metadata": {},
     "output_type": "execute_result"
    },
    {
     "data": {
      "image/png": "[encoded data removed]",
      "text/plain": [
       "<Figure size 432x288 with 1 Axes>"
      ]
     },
     "metadata": {
      "needs_background": "light"
     },
     "output_type": "display_data"
    }
   ],
   "source": [
    "plt.plot(np.sort(scores))"
   ]
  },
  {
   "cell_type": "markdown",
   "metadata": {},
   "source": [
    "## Make subject and object predictions (Is not adjusted to the new code yet)"
   ]
  },
  {
   "cell_type": "code",
   "execution_count": 29,
   "metadata": {},
   "outputs": [
    {
     "data": {
      "text/plain": [
       "array([   0,  131, 4280])"
      ]
     },
     "execution_count": 29,
     "metadata": {},
     "output_type": "execute_result"
    }
   ],
   "source": [
    "train_triples[5]"
   ]
  },
  {
   "cell_type": "code",
   "execution_count": 32,
   "metadata": {},
   "outputs": [
    {
     "data": {
      "text/plain": [
       "0"
      ]
     },
     "execution_count": 32,
     "metadata": {},
     "output_type": "execute_result"
    }
   ],
   "source": [
    "model.entity_label_to_id['/m/010016']"
   ]
  },
  {
   "cell_type": "code",
   "execution_count": 33,
   "metadata": {},
   "outputs": [
    {
     "data": {
      "text/plain": [
       "131"
      ]
     },
     "execution_count": 33,
     "metadata": {},
     "output_type": "execute_result"
    }
   ],
   "source": [
    "model.relation_label_to_id['/location/location/time_zones']"
   ]
  },
  {
   "cell_type": "code",
   "execution_count": 34,
   "metadata": {},
   "outputs": [
    {
     "data": {
      "text/plain": [
       "4280"
      ]
     },
     "execution_count": 34,
     "metadata": {},
     "output_type": "execute_result"
    }
   ],
   "source": [
    "model.entity_label_to_id['/m/02fqwt']"
   ]
  },
  {
   "cell_type": "code",
   "execution_count": 35,
   "metadata": {},
   "outputs": [],
   "source": [
    "sub = '/m/010016'\n",
    "rel = '/location/location/time_zones'\n",
    "obj = '/m/02fqwt'"
   ]
  },
  {
   "cell_type": "code",
   "execution_count": 36,
   "metadata": {},
   "outputs": [
    {
     "data": {
      "text/plain": [
       "array([['/m/02hcv8', '0.040503122'],\n",
       "       ['/m/02lcqs', '1.2070307e-06'],\n",
       "       ['/m/02fqwt', '2.4063812e-08'],\n",
       "       ['/m/03bdv', '7.6117e-10'],\n",
       "       ['/m/02hczc', '2.7981777e-12'],\n",
       "       ['/m/02llzg', '9.157466e-14'],\n",
       "       ['/m/05zppz', '7.651443e-20'],\n",
       "       ['/m/042g7t', '1.1811104e-21'],\n",
       "       ['/m/02zsn', '3.4493906e-22'],\n",
       "       ['/m/04ztj', '5.733041e-23']], dtype='<U32')"
      ]
     },
     "execution_count": 36,
     "metadata": {},
     "output_type": "execute_result"
    }
   ],
   "source": [
    "model.predict_objects(sub,rel)[:10]"
   ]
  },
  {
   "cell_type": "code",
   "execution_count": 39,
   "metadata": {},
   "outputs": [
    {
     "data": {
      "text/plain": [
       "array([['/m/0f2rq', '0.9985056'],\n",
       "       ['/m/050l8', '0.9211153'],\n",
       "       ['/m/0f04v', '0.9084762'],\n",
       "       ['/m/0vzm', '0.8009412'],\n",
       "       ['/m/03s5t', '0.5991763'],\n",
       "       ['/m/081mh', '0.34337118'],\n",
       "       ['/m/0d9jr', '0.3328025'],\n",
       "       ['/m/013yq', '0.32480478'],\n",
       "       ['/m/05fhy', '0.19039018'],\n",
       "       ['/m/02cl1', '0.15992706']], dtype='<U32')"
      ]
     },
     "execution_count": 39,
     "metadata": {},
     "output_type": "execute_result"
    }
   ],
   "source": [
    "model.predict_subjects(obj, rel)[:10]"
   ]
  },
  {
   "cell_type": "code",
   "execution_count": null,
   "metadata": {},
   "outputs": [],
   "source": []
  }
 ],
 "metadata": {
  "kernelspec": {
   "display_name": "Python 3",
   "language": "python",
   "name": "python3"
  },
  "language_info": {
   "codemirror_mode": {
    "name": "ipython",
    "version": 3
   },
   "file_extension": ".py",
   "mimetype": "text/x-python",
   "name": "python",
   "nbconvert_exporter": "python",
   "pygments_lexer": "ipython3",
   "version": "3.7.3"
  }
 },
 "nbformat": 4,
 "nbformat_minor": 2
}
